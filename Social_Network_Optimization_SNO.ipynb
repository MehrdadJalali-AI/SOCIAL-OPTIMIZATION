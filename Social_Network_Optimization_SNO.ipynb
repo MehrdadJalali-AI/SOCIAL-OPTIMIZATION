{
  "cells": [
    {
      "cell_type": "markdown",
      "metadata": {
        "id": "view-in-github",
        "colab_type": "text"
      },
      "source": [
        "<a href=\"https://colab.research.google.com/github/MehrdadJalali-AI/socialNetworkOptimization/blob/main/Social_Network_Optimization_SNO.ipynb\" target=\"_parent\"><img src=\"https://colab.research.google.com/assets/colab-badge.svg\" alt=\"Open In Colab\"/></a>"
      ]
    },
    {
      "cell_type": "markdown",
      "metadata": {
        "id": "CWyOvyHs_U7X"
      },
      "source": [
        "# Social Network Optimization (SNO) Algorithm\n",
        "\n",
        "This notebook demonstrates a simple implementation of the **Social Network Optimization (SNO)** algorithm.\n",
        "\n",
        "The idea is inspired by how information spreads in a social network. Each solution is represented as a node in a graph. High-quality solutions influence their neighbors, guiding the search toward optimal solutions."
      ],
      "id": "CWyOvyHs_U7X"
    },
    {
      "cell_type": "code",
      "execution_count": 1,
      "metadata": {
        "id": "Z74D-Lri_U7Y"
      },
      "outputs": [],
      "source": [
        "import numpy as np\n",
        "import networkx as nx\n",
        "import matplotlib.pyplot as plt"
      ],
      "id": "Z74D-Lri_U7Y"
    },
    {
      "cell_type": "markdown",
      "metadata": {
        "id": "0vF52FnN_U7Y"
      },
      "source": [
        "## Benchmark Functions\n",
        "\n",
        "We'll use two common test functions: Sphere and Rastrigin."
      ],
      "id": "0vF52FnN_U7Y"
    },
    {
      "cell_type": "code",
      "execution_count": 2,
      "metadata": {
        "id": "9h3JBhr7_U7Z"
      },
      "outputs": [],
      "source": [
        "def sphere(x):\n",
        "    return sum([xi**2 for xi in x])\n",
        "\n",
        "def rastrigin(x):\n",
        "    A = 10\n",
        "    return A * len(x) + sum([(xi**2 - A * np.cos(2 * np.pi * xi)) for xi in x])"
      ],
      "id": "9h3JBhr7_U7Z"
    },
    {
      "cell_type": "markdown",
      "metadata": {
        "id": "WhI5h3pl_U7Z"
      },
      "source": [
        "## Initialize Population\n",
        "We initialize the population as nodes in a graph, where each node is a solution."
      ],
      "id": "WhI5h3pl_U7Z"
    },
    {
      "cell_type": "code",
      "execution_count": 3,
      "metadata": {
        "id": "hRhkgkgR_U7Z"
      },
      "outputs": [],
      "source": [
        "def initialize_population(num_nodes, dim, bounds):\n",
        "    G = nx.erdos_renyi_graph(num_nodes, 0.3)\n",
        "    for node in G.nodes:\n",
        "        G.nodes[node]['position'] = np.random.uniform(bounds[0], bounds[1], dim)\n",
        "        G.nodes[node]['fitness'] = None\n",
        "    return G"
      ],
      "id": "hRhkgkgR_U7Z"
    },
    {
      "cell_type": "markdown",
      "metadata": {
        "id": "UIu8d5bg_U7Z"
      },
      "source": [
        "## Evaluate Fitness\n",
        "Calculate the fitness of each node using the chosen benchmark function."
      ],
      "id": "UIu8d5bg_U7Z"
    },
    {
      "cell_type": "code",
      "execution_count": 4,
      "metadata": {
        "id": "EbIQx9YL_U7Z"
      },
      "outputs": [],
      "source": [
        "def evaluate_fitness(G, func):\n",
        "    for node in G.nodes:\n",
        "        pos = G.nodes[node]['position']\n",
        "        G.nodes[node]['fitness'] = func(pos)"
      ],
      "id": "EbIQx9YL_U7Z"
    },
    {
      "cell_type": "markdown",
      "metadata": {
        "id": "Xbk56hCq_U7Z"
      },
      "source": [
        "## Information Diffusion\n",
        "Better solutions influence their neighbors."
      ],
      "id": "Xbk56hCq_U7Z"
    },
    {
      "cell_type": "code",
      "execution_count": 5,
      "metadata": {
        "id": "uiU4yiSg_U7Z"
      },
      "outputs": [],
      "source": [
        "def diffuse_information(G, alpha=0.5):\n",
        "    new_positions = {}\n",
        "    for node in G.nodes:\n",
        "        neighbors = list(G.neighbors(node))\n",
        "        if not neighbors:\n",
        "            continue\n",
        "        neighbor_fitness = [G.nodes[n]['fitness'] for n in neighbors]\n",
        "        best_neighbor = neighbors[np.argmin(neighbor_fitness)]\n",
        "        new_positions[node] = (\n",
        "            G.nodes[node]['position'] * (1 - alpha) +\n",
        "            G.nodes[best_neighbor]['position'] * alpha\n",
        "        )\n",
        "    for node, pos in new_positions.items():\n",
        "        G.nodes[node]['position'] = pos"
      ],
      "id": "uiU4yiSg_U7Z"
    },
    {
      "cell_type": "markdown",
      "metadata": {
        "id": "Oo9Ep5pj_U7Z"
      },
      "source": [
        "## Optimization Loop\n",
        "Run the SNO algorithm over multiple iterations."
      ],
      "id": "Oo9Ep5pj_U7Z"
    },
    {
      "cell_type": "code",
      "execution_count": 6,
      "metadata": {
        "id": "Dh_c87r2_U7Z"
      },
      "outputs": [],
      "source": [
        "def sno_optimize(func, dim=2, bounds=(-5.12, 5.12), num_nodes=20, iterations=50):\n",
        "    G = initialize_population(num_nodes, dim, bounds)\n",
        "    best_fitness_over_time = []\n",
        "\n",
        "    for _ in range(iterations):\n",
        "        evaluate_fitness(G, func)\n",
        "        diffuse_information(G)\n",
        "        best_fitness = min([G.nodes[n]['fitness'] for n in G.nodes])\n",
        "        best_fitness_over_time.append(best_fitness)\n",
        "\n",
        "    return G, best_fitness_over_time"
      ],
      "id": "Dh_c87r2_U7Z"
    },
    {
      "cell_type": "markdown",
      "metadata": {
        "id": "zLAoyMPC_U7Z"
      },
      "source": [
        "## Run and Visualize\n",
        "Run the algorithm on both Sphere and Rastrigin functions and compare convergence."
      ],
      "id": "zLAoyMPC_U7Z"
    },
    {
      "cell_type": "code",
      "execution_count": 7,
      "metadata": {
        "colab": {
          "base_uri": "https://localhost:8080/",
          "height": 487
        },
        "id": "glSTGjb6_U7Z",
        "outputId": "58e991cd-d5e3-41ff-851e-f6d37d3d4ef6"
      },
      "outputs": [
        {
          "output_type": "display_data",
          "data": {
            "text/plain": [
              "<Figure size 640x480 with 1 Axes>"
            ],
            "image/png": "[encoded data removed]"
          },
          "metadata": {}
        }
      ],
      "source": [
        "G_sphere, fitness_sphere = sno_optimize(sphere)\n",
        "G_rastrigin, fitness_rastrigin = sno_optimize(rastrigin)\n",
        "\n",
        "plt.plot(fitness_sphere, label='Sphere Function')\n",
        "plt.plot(fitness_rastrigin, label='Rastrigin Function')\n",
        "plt.xlabel('Iterations')\n",
        "plt.ylabel('Best Fitness')\n",
        "plt.title('SNO Convergence')\n",
        "plt.legend()\n",
        "plt.grid(True)\n",
        "plt.tight_layout()\n",
        "plt.show()"
      ],
      "id": "glSTGjb6_U7Z"
    }
  ],
  "metadata": {
    "kernelspec": {
      "display_name": "Python 3",
      "language": "python",
      "name": "python3"
    },
    "language_info": {
      "name": "python",
      "version": "3.9"
    },
    "colab": {
      "provenance": [],
      "include_colab_link": true
    }
  },
  "nbformat": 4,
  "nbformat_minor": 5
}