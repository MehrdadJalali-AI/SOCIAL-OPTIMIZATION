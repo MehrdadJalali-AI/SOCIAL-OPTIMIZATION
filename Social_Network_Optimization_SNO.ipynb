{
  "cells": [
    {
      "cell_type": "markdown",
      "metadata": {
        "id": "view-in-github",
        "colab_type": "text"
      },
      "source": [
        "<a href=\"https://colab.research.google.com/github/MehrdadJalali-AI/socialNetworkOptimization/blob/main/Social_Network_Optimization_SNO.ipynb\" target=\"_parent\"><img src=\"https://colab.research.google.com/assets/colab-badge.svg\" alt=\"Open In Colab\"/></a>"
      ]
    },
    {
      "cell_type": "markdown",
      "metadata": {
        "id": "CWyOvyHs_U7X"
      },
      "source": [
        "# Social Network Optimization (SNO) Algorithm\n",
        "\n",
        "This notebook demonstrates a simple implementation of the **Social Network Optimization (SNO)** algorithm.\n",
        "\n",
        "The idea is inspired by how information spreads in a social network. Each solution is represented as a node in a graph. High-quality solutions influence their neighbors, guiding the search toward optimal solutions."
      ],
      "id": "CWyOvyHs_U7X"
    },
    {
      "cell_type": "code",
      "execution_count": null,
      "metadata": {
        "id": "Z74D-Lri_U7Y"
      },
      "outputs": [],
      "source": [
        "import numpy as np\n",
        "import networkx as nx\n",
        "import matplotlib.pyplot as plt"
      ],
      "id": "Z74D-Lri_U7Y"
    },
    {
      "cell_type": "markdown",
      "metadata": {
        "id": "0vF52FnN_U7Y"
      },
      "source": [
        "## Benchmark Functions\n",
        "\n",
        "We'll use two common test functions: Sphere and Rastrigin."
      ],
      "id": "0vF52FnN_U7Y"
    },
    {
      "cell_type": "code",
      "execution_count": null,
      "metadata": {
        "id": "9h3JBhr7_U7Z"
      },
      "outputs": [],
      "source": [
        "def sphere(x):\n",
        "    return sum([xi**2 for xi in x])\n",
        "\n",
        "def rastrigin(x):\n",
        "    A = 10\n",
        "    return A * len(x) + sum([(xi**2 - A * np.cos(2 * np.pi * xi)) for xi in x])"
      ],
      "id": "9h3JBhr7_U7Z"
    },
    {
      "cell_type": "markdown",
      "metadata": {
        "id": "WhI5h3pl_U7Z"
      },
      "source": [
        "## Initialize Population\n",
        "We initialize the population as nodes in a graph, where each node is a solution."
      ],
      "id": "WhI5h3pl_U7Z"
    },
    {
      "cell_type": "code",
      "execution_count": null,
      "metadata": {
        "id": "hRhkgkgR_U7Z"
      },
      "outputs": [],
      "source": [
        "def initialize_population(num_nodes, dim, bounds):\n",
        "    G = nx.erdos_renyi_graph(num_nodes, 0.3)\n",
        "    for node in G.nodes:\n",
        "        G.nodes[node]['position'] = np.random.uniform(bounds[0], bounds[1], dim)\n",
        "        G.nodes[node]['fitness'] = None\n",
        "    return G"
      ],
      "id": "hRhkgkgR_U7Z"
    },
    {
      "cell_type": "markdown",
      "metadata": {
        "id": "UIu8d5bg_U7Z"
      },
      "source": [
        "## Evaluate Fitness\n",
        "Calculate the fitness of each node using the chosen benchmark function."
      ],
      "id": "UIu8d5bg_U7Z"
    },
    {
      "cell_type": "code",
      "execution_count": null,
      "metadata": {
        "id": "EbIQx9YL_U7Z"
      },
      "outputs": [],
      "source": [
        "def evaluate_fitness(G, func):\n",
        "    for node in G.nodes:\n",
        "        pos = G.nodes[node]['position']\n",
        "        G.nodes[node]['fitness'] = func(pos)"
      ],
      "id": "EbIQx9YL_U7Z"
    },
    {
      "cell_type": "markdown",
      "metadata": {
        "id": "Xbk56hCq_U7Z"
      },
      "source": [
        "## Information Diffusion\n",
        "Better solutions influence their neighbors."
      ],
      "id": "Xbk56hCq_U7Z"
    },
    {
      "cell_type": "code",
      "execution_count": null,
      "metadata": {
        "id": "uiU4yiSg_U7Z"
      },
      "outputs": [],
      "source": [
        "def diffuse_information(G, alpha=0.5):\n",
        "    new_positions = {}\n",
        "    for node in G.nodes:\n",
        "        neighbors = list(G.neighbors(node))\n",
        "        if not neighbors:\n",
        "            continue\n",
        "        neighbor_fitness = [G.nodes[n]['fitness'] for n in neighbors]\n",
        "        best_neighbor = neighbors[np.argmin(neighbor_fitness)]\n",
        "        new_positions[node] = (\n",
        "            G.nodes[node]['position'] * (1 - alpha) +\n",
        "            G.nodes[best_neighbor]['position'] * alpha\n",
        "        )\n",
        "    for node, pos in new_positions.items():\n",
        "        G.nodes[node]['position'] = pos"
      ],
      "id": "uiU4yiSg_U7Z"
    },
    {
      "cell_type": "markdown",
      "metadata": {
        "id": "Oo9Ep5pj_U7Z"
      },
      "source": [
        "## Optimization Loop\n",
        "Run the SNO algorithm over multiple iterations."
      ],
      "id": "Oo9Ep5pj_U7Z"
    },
    {
      "cell_type": "code",
      "execution_count": null,
      "metadata": {
        "id": "Dh_c87r2_U7Z"
      },
      "outputs": [],
      "source": [
        "def sno_optimize(func, dim=2, bounds=(-5.12, 5.12), num_nodes=20, iterations=50):\n",
        "    G = initialize_population(num_nodes, dim, bounds)\n",
        "    best_fitness_over_time = []\n",
        "\n",
        "    for _ in range(iterations):\n",
        "        evaluate_fitness(G, func)\n",
        "        diffuse_information(G)\n",
        "        best_fitness = min([G.nodes[n]['fitness'] for n in G.nodes])\n",
        "        best_fitness_over_time.append(best_fitness)\n",
        "\n",
        "    return G, best_fitness_over_time"
      ],
      "id": "Dh_c87r2_U7Z"
    },
    {
      "cell_type": "markdown",
      "metadata": {
        "id": "zLAoyMPC_U7Z"
      },
      "source": [
        "## Run and Visualize\n",
        "Run the algorithm on both Sphere and Rastrigin functions and compare convergence."
      ],
      "id": "zLAoyMPC_U7Z"
    },
    {
      "cell_type": "code",
      "execution_count": null,
      "metadata": {
        "id": "glSTGjb6_U7Z",
        "outputId": "58e991cd-d5e3-41ff-851e-f6d37d3d4ef6",
        "colab": {
          "base_uri": "https://localhost:8080/",
          "height": 487
        }
      },
      "outputs": [
        {
          "output_type": "display_data",
          "data": {
            "text/plain": [
              "<Figure size 640x480 with 1 Axes>"
            ],
            "image/png": "[encoded data removed]"
          },
          "metadata": {}
        }
      ],
      "source": [
        "G_sphere, fitness_sphere = sno_optimize(sphere)\n",
        "G_rastrigin, fitness_rastrigin = sno_optimize(rastrigin)\n",
        "\n",
        "plt.plot(fitness_sphere, label='Sphere Function')\n",
        "plt.plot(fitness_rastrigin, label='Rastrigin Function')\n",
        "plt.xlabel('Iterations')\n",
        "plt.ylabel('Best Fitness')\n",
        "plt.title('SNO Convergence')\n",
        "plt.legend()\n",
        "plt.grid(True)\n",
        "plt.tight_layout()\n",
        "plt.show()"
      ],
      "id": "glSTGjb6_U7Z"
    },
    {
      "cell_type": "code",
      "source": [
        "import numpy as np\n",
        "import pandas as pd\n",
        "import networkx as nx\n",
        "import matplotlib.pyplot as plt\n",
        "\n",
        "# SNO Functions\n",
        "def initialize_population(num_nodes, dim, bounds):\n",
        "    G = nx.erdos_renyi_graph(num_nodes, 0.3)\n",
        "    for node in G.nodes:\n",
        "        G.nodes[node]['position'] = np.random.uniform(bounds[0], bounds[1], dim)\n",
        "        G.nodes[node]['fitness'] = None\n",
        "    return G\n",
        "\n",
        "def evaluate_fitness(G, func):\n",
        "    for node in G.nodes:\n",
        "        pos = G.nodes[node]['position']\n",
        "        G.nodes[node]['fitness'] = func(pos)\n",
        "    return len(G.nodes)  # Return number of evaluations\n",
        "\n",
        "def diffuse_information(G, alpha=0.5):\n",
        "    new_positions = {}\n",
        "    for node in G.nodes:\n",
        "        neighbors = list(G.neighbors(node))\n",
        "        if not neighbors:\n",
        "            continue\n",
        "        neighbor_fitness = [G.nodes[n]['fitness'] for n in neighbors]\n",
        "        best_neighbor = neighbors[np.argmin(neighbor_fitness)]\n",
        "        new_positions[node] = (\n",
        "            G.nodes[node]['position'] * (1 - alpha) +\n",
        "            G.nodes[best_neighbor]['position'] * alpha\n",
        "        )\n",
        "    for node, pos in new_positions.items():\n",
        "        G.nodes[node]['position'] = pos\n",
        "\n",
        "def sno_optimize(func, dim, bounds, num_nodes=20, iterations=50):\n",
        "    G = initialize_population(num_nodes, dim, bounds)\n",
        "    best_fitness_over_time = []\n",
        "    total_evaluations = 0\n",
        "\n",
        "    for _ in range(iterations):\n",
        "        evaluations = evaluate_fitness(G, func)\n",
        "        total_evaluations += evaluations\n",
        "        diffuse_information(G)\n",
        "        best_fitness = min([G.nodes[n]['fitness'] for n in G.nodes])\n",
        "        best_fitness_over_time.append(best_fitness)\n",
        "\n",
        "    best_solution = G.nodes[np.argmin([G.nodes[n]['fitness'] for n in G.nodes])]['position']\n",
        "    return G, best_fitness_over_time, best_solution, total_evaluations  # Return graph and fitness history\n",
        "\n",
        "# Benchmark Functions\n",
        "def storn_chebyshev(x):\n",
        "    n = len(x)\n",
        "    return sum([(np.cos((j + 1) * np.arccos(x[i])) - (-1) ** j) ** 2 for i in range(n) for j in range(n)])\n",
        "\n",
        "def inverse_hilbert(x):\n",
        "    n = len(x)\n",
        "    H = np.array([[1 / (i + j + 1) for j in range(n)] for i in range(n)])\n",
        "    return np.linalg.norm(np.linalg.inv(H) - np.diag(x))\n",
        "\n",
        "def lennard_jones(x, epsilon=1e-9):\n",
        "    n = len(x) // 3\n",
        "    X, Y, Z = x[:n], x[n:2*n], x[2*n:]\n",
        "    energy = 0\n",
        "    for i in range(n):\n",
        "        for j in range(i + 1, n):\n",
        "            r2 = (X[i] - X[j])**2 + (Y[i] - Y[j])**2 + (Z[i] - Z[j])**2\n",
        "            if r2 < epsilon:\n",
        "                continue\n",
        "            energy += 4 * ((1/r2)**6 - (1/r2)**3)\n",
        "    return energy\n",
        "\n",
        "def rastrigin(x):\n",
        "    A = 10\n",
        "    return A * len(x) + sum([(xi**2 - A * np.cos(2 * np.pi * xi)) for xi in x])\n",
        "\n",
        "def griewank(x):\n",
        "    sum_part = sum(xi**2 / 4000 for xi in x)\n",
        "    prod_part = np.prod([np.cos(xi / np.sqrt(i + 1)) for i, xi in enumerate(x)])\n",
        "    return sum_part - prod_part + 1\n",
        "\n",
        "def weierstrass(x, a=0.5, b=3, k_max=20):\n",
        "    return sum([sum([a**k * np.cos(2 * np.pi * b**k * (xi + 0.5)) for k in range(k_max)]) for xi in x])\n",
        "\n",
        "def modified_schwefel(x):\n",
        "    return 418.9829 * len(x) - sum([xi * np.sin(np.sqrt(abs(xi))) for xi in x])\n",
        "\n",
        "def expanded_schaffer_f6(x):\n",
        "    def f6(xi, xj):\n",
        "        return 0.5 + (np.sin(np.sqrt(xi**2 + xj**2))**2 - 0.5) / (1 + 0.001 * (xi**2 + xj**2))**2\n",
        "    return sum([f6(x[i], x[i+1]) for i in range(len(x)-1)])\n",
        "\n",
        "def happy_cat(x):\n",
        "    alpha = 1/8\n",
        "    sum_x2 = sum([xi**2 for xi in x])\n",
        "    return ((sum_x2 - len(x))**2)**alpha + (0.5 * sum_x2 + sum(x)) / len(x) + 0.5\n",
        "\n",
        "def ackley(x):\n",
        "    a, b, c = 20, 0.2, 2 * np.pi\n",
        "    d = len(x)\n",
        "    return -a * np.exp(-b * np.sqrt(np.sum(x**2) / d)) - np.exp(np.sum(np.cos(c * x)) / d) + a + np.exp(1)\n",
        "\n",
        "# Function Details\n",
        "function_details = {\n",
        "    \"Storn’s Chebyshev\": (9, [-8192, 8192]),\n",
        "    \"Inverse Hilbert\": (16, [-16384, 16384]),\n",
        "    \"Lennard-Jones\": (18, [-4, 4]),\n",
        "    \"Rastrigin\": (10, [-100, 100]),\n",
        "    \"Griewank\": (10, [-100, 100]),\n",
        "    \"Weierstrass\": (10, [-100, 100]),\n",
        "    \"Modified Schwefel\": (10, [-100, 100]),\n",
        "    \"Expanded Schaffer F6\": (10, [-100, 100]),\n",
        "    \"Happy Cat\": (10, [-100, 100]),\n",
        "    \"Ackley\": (10, [-100, 100])\n",
        "}\n",
        "\n",
        "benchmark_functions = {\n",
        "    \"Storn’s Chebyshev\": storn_chebyshev,\n",
        "    \"Inverse Hilbert\": inverse_hilbert,\n",
        "    \"Lennard-Jones\": lennard_jones,\n",
        "    \"Rastrigin\": rastrigin,\n",
        "    \"Griewank\": griewank,\n",
        "    \"Weierstrass\": weierstrass,\n",
        "    \"Modified Schwefel\": modified_schwefel,\n",
        "    \"Expanded Schaffer F6\": expanded_schaffer_f6,\n",
        "    \"Happy Cat\": happy_cat,\n",
        "    \"Ackley\": ackley\n",
        "}\n",
        "\n",
        "global_optima = {\n",
        "    \"Storn’s Chebyshev\": 0.0,\n",
        "    \"Inverse Hilbert\": 0.0,\n",
        "    \"Lennard-Jones\": -1.0,\n",
        "    \"Rastrigin\": 0.0,\n",
        "    \"Griewank\": 0.0,\n",
        "    \"Weierstrass\": 0.0,\n",
        "    \"Modified Schwefel\": 0.0,\n",
        "    \"Expanded Schaffer F6\": 0.0,\n",
        "    \"Happy Cat\": 0.0,\n",
        "    \"Ackley\": 0.0\n",
        "}\n",
        "\n",
        "# Run SNO and Collect Metrics\n",
        "num_runs = 10\n",
        "max_iterations = 50\n",
        "num_nodes = 20\n",
        "\n",
        "metrics = {\n",
        "    \"Function\": [],\n",
        "    \"Average Function Evaluations\": [],\n",
        "    \"SNO Average Best Fitness\": [],\n",
        "    \"Success Rate (SR)\": [],\n",
        "    \"Robustness Score\": [],\n",
        "    \"Population Diversity (PD)\": [],\n",
        "    \"Success Rate with Threshold (SRT)\": [],\n",
        "    \"Convergence Speed (CS)\": []\n",
        "}\n",
        "\n",
        "for name, func in benchmark_functions.items():\n",
        "    dim, bounds = function_details[name]\n",
        "    best_fitnesses, function_evals, all_solutions = [], [], []\n",
        "\n",
        "    for _ in range(num_runs):\n",
        "        G, fitness_history, best_solution, evaluations = sno_optimize(func, dim, bounds, num_nodes, max_iterations)\n",
        "        best_fitnesses.append(min(fitness_history))\n",
        "        function_evals.append(evaluations)\n",
        "        all_solutions.append(best_solution)\n",
        "\n",
        "    mean_fitness = np.mean(best_fitnesses)\n",
        "    mean_evals = np.mean(function_evals)\n",
        "    variance_fitness = np.var(best_fitnesses)\n",
        "    success_rate = np.mean(np.array([abs(f - global_optima[name]) <= 0.01 for f in best_fitnesses]))\n",
        "    population_diversity = np.mean([np.var(sol) for sol in all_solutions])\n",
        "    success_rate_threshold = np.mean(np.array([abs(f - global_optima[name]) <= 0.05 for f in best_fitnesses]))\n",
        "    convergence_speed = mean_evals / max_iterations\n",
        "\n",
        "    metrics[\"Function\"].append(name)\n",
        "    metrics[\"Average Function Evaluations\"].append(mean_evals)\n",
        "    metrics[\"SNO Average Best Fitness\"].append(mean_fitness)\n",
        "    metrics[\"Success Rate (SR)\"].append(success_rate)\n",
        "    metrics[\"Robustness Score\"].append(variance_fitness)\n",
        "    metrics[\"Population Diversity (PD)\"].append(population_diversity)\n",
        "    metrics[\"Success Rate with Threshold (SRT)\"].append(success_rate_threshold)\n",
        "    metrics[\"Convergence Speed (CS)\"].append(convergence_speed)\n",
        "\n",
        "# Store Results in DataFrame\n",
        "df_results = pd.DataFrame(metrics)\n",
        "df_results.to_csv(\"SNO_Results.csv\", index=False)\n",
        "print(df_results)\n",
        "\n",
        "# Plot Convergence for Rastrigin and Ackley\n",
        "G_rastrigin, fitness_rastrigin, _, _ = sno_optimize(rastrigin, 10, [-100, 100])\n",
        "G_ackley, fitness_ackley, _, _ = sno_optimize(ackley, 10, [-100, 100])\n",
        "\n",
        "plt.plot(fitness_rastrigin, label='Rastrigin Function')\n",
        "plt.plot(fitness_ackley, label='Ackley Function')\n",
        "plt.xlabel('Iterations')\n",
        "plt.ylabel('Best Fitness')\n",
        "plt.title('SNO Convergence')\n",
        "plt.legend()\n",
        "plt.grid(True)\n",
        "plt.tight_layout()\n",
        "plt.show()"
      ],
      "metadata": {
        "colab": {
          "base_uri": "https://localhost:8080/",
          "height": 1000
        },
        "id": "Zy6hMRLXBdhP",
        "outputId": "6ddda978-2504-4880-f533-11c6103e2942"
      },
      "id": "Zy6hMRLXBdhP",
      "execution_count": 9,
      "outputs": [
        {
          "output_type": "stream",
          "name": "stderr",
          "text": [
            "<ipython-input-9-f4a91cd32a84>:53: RuntimeWarning: invalid value encountered in arccos\n",
            "  return sum([(np.cos((j + 1) * np.arccos(x[i])) - (-1) ** j) ** 2 for i in range(n) for j in range(n)])\n"
          ]
        },
        {
          "output_type": "stream",
          "name": "stdout",
          "text": [
            "               Function  Average Function Evaluations  \\\n",
            "0     Storn’s Chebyshev                        1000.0   \n",
            "1       Inverse Hilbert                        1000.0   \n",
            "2         Lennard-Jones                        1000.0   \n",
            "3             Rastrigin                        1000.0   \n",
            "4              Griewank                        1000.0   \n",
            "5           Weierstrass                        1000.0   \n",
            "6     Modified Schwefel                        1000.0   \n",
            "7  Expanded Schaffer F6                        1000.0   \n",
            "8             Happy Cat                        1000.0   \n",
            "9                Ackley                        1000.0   \n",
            "\n",
            "   SNO Average Best Fitness  Success Rate (SR)  Robustness Score  \\\n",
            "0                       NaN                0.0               NaN   \n",
            "1              1.697759e+18                0.0      1.159987e+06   \n",
            "2             -4.579199e+00                0.0      1.495453e+00   \n",
            "3              1.205800e+03                0.0      4.478248e+05   \n",
            "4              1.162647e+00                0.0      1.624678e-02   \n",
            "5             -8.499416e+00                0.0      1.631121e+00   \n",
            "6              3.970463e+03                0.0      4.236015e+03   \n",
            "7              3.081894e+00                0.0      1.595364e-01   \n",
            "8              6.898373e+01                0.0      8.687534e+02   \n",
            "9              1.888100e+01                0.0      4.455530e+00   \n",
            "\n",
            "   Population Diversity (PD)  Success Rate with Threshold (SRT)  \\\n",
            "0               1.398420e+07                                0.0   \n",
            "1               4.205261e+07                                0.0   \n",
            "2               8.172219e-01                                0.0   \n",
            "3               1.118534e+02                                0.0   \n",
            "4               1.033530e+02                                0.0   \n",
            "5               6.660825e+02                                0.0   \n",
            "6               1.172414e+03                                0.0   \n",
            "7               3.191843e+02                                0.0   \n",
            "8               1.170629e+02                                0.0   \n",
            "9               2.013660e+02                                0.0   \n",
            "\n",
            "   Convergence Speed (CS)  \n",
            "0                    20.0  \n",
            "1                    20.0  \n",
            "2                    20.0  \n",
            "3                    20.0  \n",
            "4                    20.0  \n",
            "5                    20.0  \n",
            "6                    20.0  \n",
            "7                    20.0  \n",
            "8                    20.0  \n",
            "9                    20.0  \n"
          ]
        },
        {
          "output_type": "display_data",
          "data": {
            "text/plain": [
              "<Figure size 640x480 with 1 Axes>"
            ],
            "image/png": "[encoded data removed]"
          },
          "metadata": {}
        }
      ]
    }
  ],
  "metadata": {
    "kernelspec": {
      "display_name": "Python 3",
      "language": "python",
      "name": "python3"
    },
    "language_info": {
      "name": "python",
      "version": "3.9"
    },
    "colab": {
      "provenance": [],
      "include_colab_link": true
    }
  },
  "nbformat": 4,
  "nbformat_minor": 5
}